{
 "cells": [
  {
   "cell_type": "code",
   "execution_count": 87,
   "metadata": {},
   "outputs": [],
   "source": [
    "from transformers import MarianMTModel, MarianTokenizer, GenerationConfig, AddedToken\n",
    "import torch\n",
    "\n",
    "pretrained_model = \"Helsinki-NLP/opus-mt-en-de\"\n",
    "\n",
    "# set the device\n",
    "device = \"mps\"\n",
    "device = \"cpu\"\n",
    "\n",
    "# load pretrained model\n",
    "model = MarianMTModel.from_pretrained(\n",
    "    pretrained_model,\n",
    "    output_hidden_states=True\n",
    ")\n",
    "model.to(device)\n",
    "model.eval()\n",
    "\n",
    "# load tokenizer\n",
    "tokenizer = MarianTokenizer.from_pretrained(pretrained_model)"
   ]
  },
  {
   "cell_type": "code",
   "execution_count": 88,
   "metadata": {},
   "outputs": [
    {
     "data": {
      "text/plain": [
       "58101"
      ]
     },
     "execution_count": 88,
     "metadata": {},
     "output_type": "execute_result"
    }
   ],
   "source": [
    "len(tokenizer.get_vocab())"
   ]
  },
  {
   "cell_type": "code",
   "execution_count": 89,
   "metadata": {},
   "outputs": [
    {
     "name": "stdout",
     "output_type": "stream",
     "text": [
      "['▁Tab', 'elle']\n",
      "[12209, 2831, 0]\n"
     ]
    }
   ],
   "source": [
    "print(tokenizer.tokenize(\"Tabelle\"))\n",
    "print(tokenizer.encode(\"Tabelle\"))\n",
    "# okenizer.get_vocab()[\"_Tabelle\"]"
   ]
  },
  {
   "cell_type": "code",
   "execution_count": 95,
   "metadata": {},
   "outputs": [
    {
     "name": "stdout",
     "output_type": "stream",
     "text": [
      "[AddedToken(\"_Tabelle\", rstrip=False, lstrip=False, single_word=True, normalized=True)]\n"
     ]
    },
    {
     "data": {
      "text/plain": [
       "Embedding(58102, 512)"
      ]
     },
     "execution_count": 95,
     "metadata": {},
     "output_type": "execute_result"
    }
   ],
   "source": [
    "# new tokens\n",
    "\n",
    "new_tokens = [AddedToken(\"_Tabelle\", single_word=True)]\n",
    "\n",
    "# check if the tokens are already in the vocabulary\n",
    "# new_tokens = set(new_tokens) - set(tokenizer.get_vocab().keys())\n",
    "\n",
    "print(new_tokens)\n",
    "# add the tokens to the tokenizer vocabulary\n",
    "tokenizer.add_tokens(list(new_tokens))\n",
    "\n",
    "# add new, random embeddings for the new tokens\n",
    "model.resize_token_embeddings(len(tokenizer))"
   ]
  },
  {
   "cell_type": "code",
   "execution_count": 96,
   "metadata": {},
   "outputs": [],
   "source": [
    "tokenizer.save_pretrained('./updated_tokenizer')\n",
    "tokenizer = MarianTokenizer.from_pretrained('./updated_tokenizer')"
   ]
  },
  {
   "cell_type": "code",
   "execution_count": 97,
   "metadata": {},
   "outputs": [
    {
     "name": "stdout",
     "output_type": "stream",
     "text": [
      "['▁Data', 'tab', 'elle']\n",
      "[1734, 17760, 2831, 0]\n",
      "['▁Tab', 'elle']\n",
      "[12209, 2831, 0]\n"
     ]
    }
   ],
   "source": [
    "print(tokenizer.tokenize(\"Datatabelle\"))\n",
    "print(tokenizer.encode(\"Datatabelle\"))\n",
    "print(tokenizer.tokenize(\"Tabelle\"))\n",
    "print(tokenizer.encode(\"Tabelle\"))"
   ]
  },
  {
   "cell_type": "code",
   "execution_count": 98,
   "metadata": {},
   "outputs": [
    {
     "data": {
      "text/plain": [
       "58102"
      ]
     },
     "execution_count": 98,
     "metadata": {},
     "output_type": "execute_result"
    }
   ],
   "source": [
    "len(tokenizer.get_vocab())"
   ]
  },
  {
   "cell_type": "code",
   "execution_count": 101,
   "metadata": {},
   "outputs": [
    {
     "data": {
      "text/plain": [
       "['</s>', '<pad>', '<unk>', '_Tabelle']"
      ]
     },
     "execution_count": 101,
     "metadata": {},
     "output_type": "execute_result"
    }
   ],
   "source": [
    "tokenizer.unique_no_split_tokens"
   ]
  },
  {
   "cell_type": "code",
   "execution_count": 100,
   "metadata": {},
   "outputs": [
    {
     "data": {
      "text/plain": [
       "'_Tabelle'"
      ]
     },
     "execution_count": 100,
     "metadata": {},
     "output_type": "execute_result"
    }
   ],
   "source": [
    "# get token with id 31032\n",
    "tokenizer.convert_ids_to_tokens(58101)\n"
   ]
  },
  {
   "cell_type": "code",
   "execution_count": null,
   "metadata": {},
   "outputs": [],
   "source": []
  }
 ],
 "metadata": {
  "kernelspec": {
   "display_name": "venv",
   "language": "python",
   "name": "python3"
  },
  "language_info": {
   "codemirror_mode": {
    "name": "ipython",
    "version": 3
   },
   "file_extension": ".py",
   "mimetype": "text/x-python",
   "name": "python",
   "nbconvert_exporter": "python",
   "pygments_lexer": "ipython3",
   "version": "3.11.2"
  },
  "orig_nbformat": 4,
  "vscode": {
   "interpreter": {
    "hash": "622e1c3ef90a24319e0a8824d1f44b8f6a40db85d334723b06b871c9b93cccd0"
   }
  }
 },
 "nbformat": 4,
 "nbformat_minor": 2
}
